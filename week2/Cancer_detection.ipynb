{
  "nbformat": 4,
  "nbformat_minor": 0,
  "metadata": {
    "colab": {
      "name": "Cancer_detection.ipynb",
      "provenance": [],
      "collapsed_sections": []
    },
    "kernelspec": {
      "name": "python3",
      "display_name": "Python 3"
    },
    "language_info": {
      "name": "python"
    }
  },
  "cells": [
    {
      "cell_type": "markdown",
      "source": [
        "# Who is ready to learn? (Our Machines Are!)\n",
        "\n",
        "Our task at hand -- building an AI that can save lives.\n",
        "\n",
        "Today we are going to work to create an AI that can predict whether a breast cancer tumor is benign or malignant. This diagnosis has incredibly important medical implications for those who are diagnosed with breast cancer. \n",
        "\n",
        "Before we get started, you should make sure you know what the difference between benign and malignant tumors are and discuss them with your team.\n",
        "\n",
        "**Hint:** we recommend you heavily refer to your EDA mini project from last week for this activity! "
      ],
      "metadata": {
        "id": "R9tvKItivlxp"
      }
    },
    {
      "cell_type": "markdown",
      "source": [
        "### Step 1: Imports and Preprocessing\n",
        "\n",
        "We need to `import pandas as pd` and read in our data. It is currently a .csv (comma-separated value) file, and we generally use the pd.read_csv() function from pandas to read our data into a dataframe."
      ],
      "metadata": {
        "id": "m-qQYrLDw0EN"
      }
    },
    {
      "cell_type": "code",
      "execution_count": null,
      "metadata": {
        "id": "f0O0Zg5xvX1N"
      },
      "outputs": [],
      "source": [
        "import pandas as pd\n",
        "import numpy as np"
      ]
    },
    {
      "cell_type": "code",
      "source": [
        "breast_cancer = pd.read_csv(\"https://raw.githubusercontent.com/pkmklong/Breast-Cancer-Wisconsin-Diagnostic-DataSet/master/data.csv\")"
      ],
      "metadata": {
        "id": "BvK5i4DcvcTg"
      },
      "execution_count": null,
      "outputs": []
    },
    {
      "cell_type": "markdown",
      "source": [
        "**TODO:** Do you remember how to print the first five rows of a pandas dataframe? How about all of the columns? How about the number of rows? Please do that below and google anything you are unsure about. "
      ],
      "metadata": {
        "id": "rdwjqFR8xdE2"
      }
    },
    {
      "cell_type": "code",
      "source": [
        "# print first five rows of breast_cancer\n"
      ],
      "metadata": {
        "id": "B5QnmTysxcJT"
      },
      "execution_count": null,
      "outputs": []
    },
    {
      "cell_type": "code",
      "source": [
        "# print columns of breast_cancer\n"
      ],
      "metadata": {
        "id": "qQ5KjWIMwGaP"
      },
      "execution_count": null,
      "outputs": []
    },
    {
      "cell_type": "code",
      "source": [
        "# print the number of rows in breast_cancer\n"
      ],
      "metadata": {
        "id": "LxELBWOdxsrl"
      },
      "execution_count": null,
      "outputs": []
    },
    {
      "cell_type": "code",
      "source": [
        "# explore anything else you are interested in here\n"
      ],
      "metadata": {
        "id": "lFnrZickyynD"
      },
      "execution_count": null,
      "outputs": []
    },
    {
      "cell_type": "markdown",
      "source": [
        "**TODO:** Can you figure out how many rows are malignant (M) and how many are benign (B)? "
      ],
      "metadata": {
        "id": "Q8MwFiBX0Zdu"
      }
    },
    {
      "cell_type": "code",
      "source": [
        "# Figure out how many rows are malignant and how many are benign. Hint: use the .count() function!\n"
      ],
      "metadata": {
        "id": "0tYK-EaL0g8y"
      },
      "execution_count": null,
      "outputs": []
    },
    {
      "cell_type": "markdown",
      "source": [
        "### Step 2: Do Your Research\n",
        "That is a ton of columns. That is a ton of data! Where do we start? \n",
        "\n",
        "You should probably do some research on this dataset to find out what the columns mean. I got it on kaggle - you can read about it here: [Wisconsin Breast Cancer Dataset](https://www.kaggle.com/datasets/uciml/breast-cancer-wisconsin-data).\n"
      ],
      "metadata": {
        "id": "XjS_4CFYxx52"
      }
    },
    {
      "cell_type": "markdown",
      "source": [
        "### Step 3: Cleaning our data up!\n",
        "\n",
        "Maybe there are some columns we don't need. The last column makes zero sense right? Do we need an id column for our purposes? You should drop **any** columns that you feel are not worth keeping track of. \n",
        "\n",
        "Pandas' `drop()` documentation: https://pandas.pydata.org/docs/reference/api/pandas.DataFrame.drop.html. Remember to use `inplace = True` if you are changing your dataframe and note creating a new one!\n",
        "\n",
        "**Note:** This data is pretty clean! We only need a few lines for this dataset."
      ],
      "metadata": {
        "id": "ujuEOdIYyaV8"
      }
    },
    {
      "cell_type": "code",
      "source": [
        "# use df.drop to drop Unnamed: 32 and ID, as well as any columns you don't think we should keep track of.\n"
      ],
      "metadata": {
        "id": "GsTMmM8EzBJ9"
      },
      "execution_count": null,
      "outputs": []
    },
    {
      "cell_type": "code",
      "source": [
        "# drop any n/a values remaining! Remember inplace!\n"
      ],
      "metadata": {
        "id": "H7H0OTAhzoKQ"
      },
      "execution_count": null,
      "outputs": []
    },
    {
      "cell_type": "code",
      "source": [
        "# print the last five rows of your dataframe \n"
      ],
      "metadata": {
        "id": "tL-d7BNRzz_V"
      },
      "execution_count": null,
      "outputs": []
    },
    {
      "cell_type": "markdown",
      "source": [
        "**TODO:** at this point, all of our data should be numeric except for our diagnosis column. This is because supervised machine learning models work off of numerical data. Use breast_cancer.info() below to check that all our data besides 'diagnosis' are numeric."
      ],
      "metadata": {
        "id": "X1yX_YUAz8ti"
      }
    },
    {
      "cell_type": "code",
      "source": [
        "# Run breast_cancer.info()\n"
      ],
      "metadata": {
        "id": "gAPOpEtcz7U2"
      },
      "execution_count": null,
      "outputs": []
    },
    {
      "cell_type": "markdown",
      "source": [
        "### Dummy Variables - Preprocessing\n",
        "Our target variable (the variable we are trying to predict) is `diagnosis`. Our only problem is that the diagnosis variable will either be an 'M' or a 'B', which is not something our model will understand. We need to change our M's to 1's and B's to 0's so that our model can think like computers do -- using numbers!  \n",
        "\n",
        "To do so, we use something called a dummy variable. I'll show you how to do so below. "
      ],
      "metadata": {
        "id": "c4ocJucC3-p2"
      }
    },
    {
      "cell_type": "code",
      "source": [
        "dummies = pd.get_dummies(breast_cancer[\"diagnosis\"])\n",
        "dummies.head()"
      ],
      "metadata": {
        "id": "k2w_QD0e3-WY"
      },
      "execution_count": null,
      "outputs": []
    },
    {
      "cell_type": "markdown",
      "source": [
        "**Ok, we've got our dummy variables. What now?** Now we have to pick one and add it to our dataframe -- we also have to delete the old diagnosis column!"
      ],
      "metadata": {
        "id": "YXI5tmDd5CKh"
      }
    },
    {
      "cell_type": "code",
      "source": [
        "breast_cancer[\"outcome\"] = dummies[\"M\"]\n",
        "breast_cancer.head()"
      ],
      "metadata": {
        "id": "QtT1BaBF5M3V"
      },
      "execution_count": null,
      "outputs": []
    },
    {
      "cell_type": "markdown",
      "source": [
        "**TODO:** Now that our outcome column is there, we need to remove the diagnosis column that had the bad data, right? Please do so below.\n"
      ],
      "metadata": {
        "id": "kXUk3fFs5VxV"
      }
    },
    {
      "cell_type": "code",
      "source": [
        "#Drop the 'diagnosis' column from your dataframe. Remember to use inplace if you are changing the dataframe itself!\n"
      ],
      "metadata": {
        "id": "_e-rGtPu5VIL"
      },
      "execution_count": null,
      "outputs": []
    },
    {
      "cell_type": "markdown",
      "source": [
        "### Visualize our data\n",
        "Now that we've cleaned our data and it is all ready for our model, we should understand some of the relationships. Use your learnings from last week to create two plots -- you can always start with simple [scatter plots](https://plotly.com/python/line-and-scatter/) or maybe a [scatterplot matrix](https://plotly.com/python/splom/). Get creative!"
      ],
      "metadata": {
        "id": "jhMq9yAj3x78"
      }
    },
    {
      "cell_type": "code",
      "source": [
        "import plotly.express as px\n",
        "import numpy\n",
        "import matplotlib.pyplot as plt\n",
        "import seaborn as sns"
      ],
      "metadata": {
        "id": "QtEadcGS3sP3"
      },
      "execution_count": null,
      "outputs": []
    },
    {
      "cell_type": "code",
      "source": [
        "# Visualization 1 here\n"
      ],
      "metadata": {
        "id": "zAXnnF9f1Mp-"
      },
      "execution_count": null,
      "outputs": []
    },
    {
      "cell_type": "code",
      "source": [
        "# Visualization 2 here\n"
      ],
      "metadata": {
        "id": "oQXBTNye681E"
      },
      "execution_count": null,
      "outputs": []
    },
    {
      "cell_type": "markdown",
      "source": [
        "### Are you ready to perform machine learning? \n",
        "Do you think deciding whether a tumor is benign or malignant is classification or regression? Talk with your team for a minute.\n",
        "\n",
        "Either way, we need to tell our code what our target variable is, and what our input is going to be. <br> **TODO:** Can you do so below?"
      ],
      "metadata": {
        "id": "EvyKXnr27SaE"
      }
    },
    {
      "cell_type": "code",
      "source": [
        "# Create a variable named target and set it equal to the [\"outcome\"] column in our breast_cancer dataframe.\n"
      ],
      "metadata": {
        "id": "tZOfTkVx8w2K"
      },
      "execution_count": null,
      "outputs": []
    },
    {
      "cell_type": "code",
      "source": [
        "# Create a variable named input_columns and set it equal to breast_cancer.loc[:, breast_cancer.columns != \"outcome\"]. This means our inputs are every single column except for column!\n"
      ],
      "metadata": {
        "id": "X6wHkQax9chF"
      },
      "execution_count": null,
      "outputs": []
    },
    {
      "cell_type": "markdown",
      "source": [
        "### Splitting the Data\n",
        "\n",
        "For every single supervised machine learning problem, we will follow the same flow with `sklearn`:\n",
        "\n",
        "> *Split, Fit, Predict, and Evaluate.*\n",
        "\n",
        "What is first? Splitting our data into training and testing sets. You can watch a video on why we do that [in the first 36 seconds of this video](https://www.youtube.com/watch?v=_vdMKioCXqQ). \n",
        "\n",
        "We will split our data using the [`train_test_split()`](https://scikit-learn.org/stable/modules/generated/sklearn.model_selection.train_test_split.html) function on `sklearn` using the same flow as this tutorial: https://realpython.com/train-test-split-python-data/#application-of-train_test_split. The code to do so is below. "
      ],
      "metadata": {
        "id": "TsxggVkp81js"
      }
    },
    {
      "cell_type": "code",
      "source": [
        "import sklearn\n",
        "from sklearn.model_selection import train_test_split\n",
        "\n",
        "x_train, x_test, y_train, y_test = train_test_split(input_columns, target, test_size=0.8)"
      ],
      "metadata": {
        "id": "9I03IMDT8tdn"
      },
      "execution_count": null,
      "outputs": []
    },
    {
      "cell_type": "markdown",
      "source": [
        "**TODO:** can you look at the shape of the x_train, x_test, y_train, and y_test columns? Why does the shape of these columns make sense? "
      ],
      "metadata": {
        "id": "rcQ-PJQF9XSA"
      }
    },
    {
      "cell_type": "code",
      "source": [
        "#hint: start with x_train.shape\n"
      ],
      "metadata": {
        "id": "Ok87vW5k-GTS"
      },
      "execution_count": null,
      "outputs": []
    },
    {
      "cell_type": "markdown",
      "source": [
        "**TODO:** Can you print the outputs with print(y_train) and print(y_test)? What do these 1's and 0's represent?"
      ],
      "metadata": {
        "id": "tY5UwAsS9sCV"
      }
    },
    {
      "cell_type": "code",
      "source": [
        "#print outputs\n"
      ],
      "metadata": {
        "id": "4wMcDBPW9n3C"
      },
      "execution_count": null,
      "outputs": []
    },
    {
      "cell_type": "markdown",
      "source": [
        "### We have split, now we gotta fit!\n",
        "Now that are data is preprocessed (all numerical), and split (80/20 train/test) for machine learning, we can create a model to **classify** whether a patient has malignant (1) or benign (0) breast cancer!\n",
        "\n",
        "The first model is a classification model called K Nearest Neighbors. You can watch a video on how K Nearest Neighbors works here: https://www.youtube.com/watch?v=0p0o5cmgLdE.\n",
        "\n",
        "First things first, we need to import our model using SKLearn. You can follow the [guide]( https://scikit-learn.org/stable/auto_examples/neighbors/plot_classification.html#sphx-glr-auto-examples-neighbors-plot-classification-py) here to see how this tutorial works.\n"
      ],
      "metadata": {
        "id": "2lWxo646-Fka"
      }
    },
    {
      "cell_type": "code",
      "source": [
        "import sklearn #our favorite machine learning library\n",
        "from sklearn.neighbors import KNeighborsClassifier as KNN #this will import our model as KNN"
      ],
      "metadata": {
        "id": "RDDyWqva92IH"
      },
      "execution_count": null,
      "outputs": []
    },
    {
      "cell_type": "markdown",
      "source": [
        "**Creating the model object:**  we need to create an instance of the model. This is like having a model and giving it a nickname so we can remember it, change it, and save it to work custom on our dataset. "
      ],
      "metadata": {
        "id": "tv1P3go2_U5O"
      }
    },
    {
      "cell_type": "code",
      "source": [
        "# Creating the KNN model object -- we need to tell it the number of neighbors to look at.\n",
        "k = 7 #number of neighbors to look at (look at 7 nearest neighbors)\n",
        "my_KNN_model = KNN(n_neighbors=k)"
      ],
      "metadata": {
        "id": "GzCrGDYI-4FR"
      },
      "execution_count": null,
      "outputs": []
    },
    {
      "cell_type": "markdown",
      "source": [
        "And there you have it. We have a K Nearest Neighbors model that will look at the 7 nearest neighbors, and gave it a nice nickname, my_KNN_model. <br> <br>\n",
        "\n",
        "**Fitting (Training) the model object:** **Supervised machine learning** training involves learning from past results (`y_train`) and past inputs (`x_train`). We pass these to our model for learning to teach our model to answer the question \"*based on these inputs, what outputs can we expect?*\"\n",
        "<br>\n",
        "\n",
        "To do this, we want to let this model learn from our data. We do so by running our model object's `.fit()` function on our training data."
      ],
      "metadata": {
        "id": "IzQ8yZj5Q0Eg"
      }
    },
    {
      "cell_type": "code",
      "source": [
        "my_KNN_model.fit(x_train, y_train) #train the model on our past results x_train (inputs) and y_train (outputs)"
      ],
      "metadata": {
        "id": "VseIx97TSHQP"
      },
      "execution_count": null,
      "outputs": []
    },
    {
      "cell_type": "markdown",
      "source": [
        "**Prediction and Evaluation:** How do we know if our model is actually good? We need to **test** our model by giving it a two-step quiz. \n",
        "\n",
        "Step 1: We let our model use our testing inputs (`x_test`) to make predictions that guess the whether the patient has benign or malignant tumors (we call these predictions `y_hat`). In this case our `y_hat`'s are a bunch of 1's and 0's that represent whether our model thinks the patient's tumor is benign or malignant. \n",
        "\n",
        "We do this by running our model object's `.predict()` function."
      ],
      "metadata": {
        "id": "qRJKWrA6hhdf"
      }
    },
    {
      "cell_type": "code",
      "source": [
        "#make some predictions based on your testing inputs (x_test) using the predict() function\n",
        "y_hat = my_KNN_model.predict(x_test)"
      ],
      "metadata": {
        "id": "CVBaqGOIiEfP"
      },
      "execution_count": null,
      "outputs": []
    },
    {
      "cell_type": "code",
      "source": [
        "y_hat #these are our predictions for our x_test inputs. "
      ],
      "metadata": {
        "id": "T-ifi-bGj7fx"
      },
      "execution_count": null,
      "outputs": []
    },
    {
      "cell_type": "code",
      "source": [
        "np.array(y_test) #these are what actually happened for our x_test inputs. Do you see some differences?"
      ],
      "metadata": {
        "id": "TjLu8V3bj8_F"
      },
      "execution_count": null,
      "outputs": []
    },
    {
      "cell_type": "markdown",
      "source": [
        "Step 2 - Evaluation: Here we want to compare `y_hat` to `y_test`. Discuss with your team about why we should do this. \n",
        "\n",
        "One we we can compare them is visual inspection. With that said, would you recommend going through by hand and making a tally for every time the one's and zero's don't match up?\n",
        "\n",
        "Please don't do this. Please save yourself this nasty headache when we can just do math. Below is a common way to do this, called mean squared error. \n",
        "\n",
        "To get mean squared error, we compute the difference between each element in `y_hat` and `y_test` and square it and then get the average of all of that to see how far off we are."
      ],
      "metadata": {
        "id": "SbywAxezkRN8"
      }
    },
    {
      "cell_type": "code",
      "source": [
        "total_squared_error = (np.sum((y_test - y_hat)**2)) #get the sum of all the errors (error = what we want (y_test) - what we predicted (y_hat))\n",
        "mean_squared_error = total_squared_error/len(y_test) #divide this by how many rows/observations we have \n",
        "print(mean_squared_error)"
      ],
      "metadata": {
        "id": "eLFffHy1kFBh"
      },
      "execution_count": null,
      "outputs": []
    },
    {
      "cell_type": "markdown",
      "source": [
        "**Not too bad!** MSE represents  the average error (difference) between our model and the correct result. A low mean squared error means that our model makes the correct guess most of the time. \n",
        "\n",
        "But we have to think about the nature of the problem. As Data Scientists, do we want to tell someone that we have this average error when we are predicting something as serious as breast cancer? \n",
        "\n",
        "And what does an error mean? Are we telling them they don't have a malignant tumor (y_hat=0) when they actually do (y_test = 1)? Are we telling them they have a tumor (y_hat=1) when they actually don't (y_test = 0)?\n",
        "\n",
        "We can get insights on this through a confusion matrix. "
      ],
      "metadata": {
        "id": "bYj4HCmOmH42"
      }
    },
    {
      "cell_type": "code",
      "source": [
        "from sklearn.metrics import confusion_matrix\n",
        "import seaborn as sns\n",
        "sns.heatmap(confusion_matrix(y_test, y_hat), annot=True, fmt='g')"
      ],
      "metadata": {
        "id": "WCZLL1wZnfTn"
      },
      "execution_count": null,
      "outputs": []
    },
    {
      "cell_type": "markdown",
      "source": [
        "**What is this???** I encourage you and your team to read about it here: https://towardsdatascience.com/understanding-confusion-matrix-a9ad42dcfd62. You should define what true positives, true negatives, false positives, and false negatives represent for this scenario. \n",
        "\n",
        "Discuss what other  findings you can take away, and talk with your instructor about metrics like accuracy, precision and recall!"
      ],
      "metadata": {
        "id": "mCR5MW5gp0ni"
      }
    },
    {
      "cell_type": "markdown",
      "source": [
        "**The last step!!** We need to change parameters and data to improve our model as we go. If we can make even 1 more correct cancer prediction, it is worth it, right? \n",
        "\n",
        "**TODO:** Go back and change the value of `k` in the **creating your model object** section and re-run all the code below it. See what changes with your MSE and confusion matrix!"
      ],
      "metadata": {
        "id": "tbo3cueVq7EV"
      }
    },
    {
      "cell_type": "markdown",
      "source": [
        "### Code Your Own Machine Learning Model\n",
        "\n",
        "It's time for us to create our own classifier. Let's go with an [SVM](https://www.youtube.com/watch?v=_YPScrckx28). We will do the first step for you.\n",
        "\n",
        "I know it was a lot of information in the last section, but the code is *basically* the same. Since our data is already split, you will follow the same steps to fit your model, make some predictions, evaluate the performance, and visualize your confusion matrix."
      ],
      "metadata": {
        "id": "ObvQ_3pPmPBf"
      }
    },
    {
      "cell_type": "code",
      "source": [
        "from sklearn.svm import SVC\n",
        "#Create your model object -- you can go back and change the kernel argument after evaluating your data."
      ],
      "metadata": {
        "id": "LW9bLcghmT5d"
      },
      "execution_count": null,
      "outputs": []
    },
    {
      "cell_type": "markdown",
      "source": [
        "Do you remember how to fit a model? What parts of our data do we fit/train on? You can go look at the section above for inspiration."
      ],
      "metadata": {
        "id": "Bk4rua0er_QF"
      }
    },
    {
      "cell_type": "code",
      "source": [
        "#fit your model\n"
      ],
      "metadata": {
        "id": "cu2cA4YBqrNL"
      },
      "execution_count": null,
      "outputs": []
    },
    {
      "cell_type": "markdown",
      "source": [
        "Now create some predictions and set them equal to `y_hat`. You can look above or google how to make predictions on sklearn if you get confused!"
      ],
      "metadata": {
        "id": "4oAExynzsveF"
      }
    },
    {
      "cell_type": "code",
      "source": [
        "#create some predictions on your testing inputs and set them equal to y_hat.\n"
      ],
      "metadata": {
        "id": "Hkrx7foxsuNZ"
      },
      "execution_count": null,
      "outputs": []
    },
    {
      "cell_type": "markdown",
      "source": [
        "Compute your MSE below. Is this higher or lower than KNN? Which one would you recommend so far?"
      ],
      "metadata": {
        "id": "k-ANsXzitBdu"
      }
    },
    {
      "cell_type": "code",
      "source": [
        "#Compute your MSE.\n"
      ],
      "metadata": {
        "id": "zz8OFQxFs8N0"
      },
      "execution_count": null,
      "outputs": []
    },
    {
      "cell_type": "markdown",
      "source": [
        "Now, create a confusion matrix! How are the results? Do we end up with more false negatives or false positives?"
      ],
      "metadata": {
        "id": "Ge0IHJ7AtQI2"
      }
    },
    {
      "cell_type": "code",
      "source": [
        "#Create a confusion matrix\n"
      ],
      "metadata": {
        "id": "Xlm2k_-otFgI"
      },
      "execution_count": null,
      "outputs": []
    },
    {
      "cell_type": "markdown",
      "source": [
        "Amazing, now try changing your kernel and seeing how your results change. You can research what kernels are available here: https://scikit-learn.org/stable/modules/generated/sklearn.svm.SVC.html. If your interested in more ML with SKLearn you should get used to pages like these!"
      ],
      "metadata": {
        "id": "6AyqrZd9v9BR"
      }
    },
    {
      "cell_type": "markdown",
      "source": [
        "### Want more?\n",
        "\n",
        "There are dozens of models available on SKLearn: https://scikit-learn.org/stable/supervised_learning.html.\n",
        "\n",
        "You can try an implement your own below, I recommend starting with logistic regression or random forests :) "
      ],
      "metadata": {
        "id": "hd9Jqq18wFkd"
      }
    },
    {
      "cell_type": "code",
      "source": [
        "#have fun!"
      ],
      "metadata": {
        "id": "CC0NmaY7v7_K"
      },
      "execution_count": null,
      "outputs": []
    }
  ]
}